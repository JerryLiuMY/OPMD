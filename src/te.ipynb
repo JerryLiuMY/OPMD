{
 "cells": [
  {
   "cell_type": "code",
   "execution_count": 1,
   "metadata": {},
   "outputs": [
    {
     "name": "stdout",
     "output_type": "stream",
     "text": [
      "\n",
      "          #######################################################\n",
      "          #   Defined OPMD testbench variables:                 #\n",
      "          #   conf: OPMD_acq configuration object               #\n",
      "          #   cl  : raw foxtrot client                          #\n",
      "          #   tb  : OPMD_TestBench object                       #\n",
      "          #   ccdop : OPMD_CCDOP object                         #\n",
      "          #   ccdtp : e2v_CCD250 object                         #\n",
      "          #######################################################\n",
      "    \n",
      "True\n",
      "sleeping for integration time\n"
     ]
    },
    {
     "name": "stderr",
     "output_type": "stream",
     "text": [
      "100%|#####################################|Elapsed Time: 0:00:01|Time:  0:00:01\n"
     ]
    },
    {
     "name": "stdout",
     "output_type": "stream",
     "text": [
      "waiting for frame to be ready\n"
     ]
    },
    {
     "name": "stderr",
     "output_type": "stream",
     "text": [
      "| |             #                                     | 0 Elapsed Time: 0:00:01\n"
     ]
    },
    {
     "name": "stdout",
     "output_type": "stream",
     "text": [
      "transferring buffer\n"
     ]
    },
    {
     "name": "stderr",
     "output_type": "stream",
     "text": [
      "| |                          #                        | 0 Elapsed Time: 0:00:02\n"
     ]
    },
    {
     "name": "stdout",
     "output_type": "stream",
     "text": [
      "0 tries\n",
      "2.91324e-12\n"
     ]
    },
    {
     "name": "stderr",
     "output_type": "stream",
     "text": [
      "/Users/mingyu/anaconda3/lib/python3.7/site-packages/pyqtgraph/imageview/ImageView.py:588: FutureWarning: Using a non-tuple sequence for multidimensional indexing is deprecated; use `arr[tuple(seq)]` instead of `arr[seq]`. In the future this will be interpreted as an array index, `arr[np.array(seq)]`, which will result either in an error or a different result.\n",
      "  data = data[sl]\n"
     ]
    },
    {
     "name": "stdout",
     "output_type": "stream",
     "text": [
      "sleeping for integration time\n"
     ]
    },
    {
     "name": "stderr",
     "output_type": "stream",
     "text": [
      "100%|#####################################|Elapsed Time: 0:00:01|Time:  0:00:01\n"
     ]
    },
    {
     "name": "stdout",
     "output_type": "stream",
     "text": [
      "waiting for frame to be ready\n"
     ]
    },
    {
     "name": "stderr",
     "output_type": "stream",
     "text": [
      "| |         #                                         | 0 Elapsed Time: 0:00:00\n"
     ]
    },
    {
     "name": "stdout",
     "output_type": "stream",
     "text": [
      "transferring buffer\n"
     ]
    },
    {
     "name": "stderr",
     "output_type": "stream",
     "text": [
      "| |                           #                       | 0 Elapsed Time: 0:00:02\n"
     ]
    },
    {
     "name": "stdout",
     "output_type": "stream",
     "text": [
      "0 tries\n",
      "7.328283e-08\n",
      "enabling back bias\n",
      "back bias measured V: -60.00, I : -0.63\n",
      "sleeping for integration time\n"
     ]
    },
    {
     "name": "stderr",
     "output_type": "stream",
     "text": [
      "100%|#####################################|Elapsed Time: 0:00:01|Time:  0:00:01\n"
     ]
    },
    {
     "name": "stdout",
     "output_type": "stream",
     "text": [
      "waiting for frame to be ready\n"
     ]
    },
    {
     "name": "stderr",
     "output_type": "stream",
     "text": [
      "| |                    #                              | 0 Elapsed Time: 0:00:02\n"
     ]
    },
    {
     "name": "stdout",
     "output_type": "stream",
     "text": [
      "transferring buffer\n"
     ]
    },
    {
     "name": "stderr",
     "output_type": "stream",
     "text": [
      "| |                            #                      | 0 Elapsed Time: 0:00:02\n"
     ]
    },
    {
     "name": "stdout",
     "output_type": "stream",
     "text": [
      "disabling back bias...\n"
     ]
    }
   ],
   "source": [
    "#import stuff we need to \n",
    "\n",
    "#this creates objects: \n",
    "# \n",
    "#   cl: pyfoxtrot Client (same as used before)\n",
    "#   tb: pyfoxtrot Testbench (as used before)\n",
    "#   ccdop: pyfoxtrot OPMD_CCDOP object (to control CCD voltages, timings etc)\n",
    "#   ccdtp: pyfoxtrot CCD object, which contains metadata about the CCD (not used much interactive)\n",
    "#   conf: pyfoxtrot conf object, which sets up where data is stored etc\n",
    "\n",
    "from OPMD_acq.default_startup import *\n",
    "import pyqtgraph as pg\n",
    "\n",
    "#check the CCD is powered up\n",
    "print(ccdop.power)\n",
    "\n",
    "#to power on and off, use \n",
    "# ccdop.power = True or ccdop.power = False (don't do this more often than needed)\n",
    "\n",
    "#set up an integration time (in seconds, resolution 0.01 seconds)\n",
    "ccdop.integration_time = 1.0\n",
    "\n",
    "#let's try a dark frame with radiometry. First off disable both slow and LED light \n",
    "# souirces\n",
    "ccdop.params.setandapply(\"LIGHT\",0) #disable shutter to the main light source\n",
    "ccdop.params.setandapply(\"LED_ENABLE\",0)  #disable LED light source\n",
    "\n",
    "#capture a frame\n",
    "frame, en = ccdop.capture_frame_integrated_radiometry_manual(tb)\n",
    "\n",
    "#let's look at the energy (in J)\n",
    "print(en) #in my example, this was -4.21E-11 (note - sign due to over correction of dark current)\n",
    "#to look at the frame in an image viewer\n",
    "pg.show(frame,title=\"dark frame\")\n",
    "\n",
    "#now let's do a light frame, using the LED source\n",
    "ccdop.params.setandapply(\"LED_ENABLE\",1)\n",
    "frame2, en = ccdop.capture_frame_integrated_radiometry_manual(tb)\n",
    "\n",
    "print(en) # this time it's 1.16E-6 J\n",
    "\n",
    "#now let's turn on the back bias (DO NOT EVER DO THIS WITHOUT THE CCD BEING POWERED ON FIRST!!!)\n",
    "# and get a back biased frame\n",
    "#also no radiometry this time (though you can if you want, this is just a demonstration)\n",
    "\n",
    "#if you are taking many frames at the same time, do not repeatedly turn on and off the backbias\n",
    "#take all the frames within the \"with\" statement, the back bias will turn off when it is\n",
    "#exited\n",
    "with ccdop.backbias_context(-60.0):\n",
    "    frame3 = ccdop.capture_frame_simple()\n",
    "    \n",
    "# to change gate width\n",
    "ccdop.params.setandapply(\"WIDEINT\", 1) #use two gates to integrate\n",
    "\n",
    "\n",
    "#to look at how to run experiments, look at the file OPMD_acq/runs/BFE_gatewidth_test.py\n",
    "#which is the experiment I briefly ran last year for initial gate width testing\n",
    "\n",
    "\n"
   ]
  },
  {
   "cell_type": "code",
   "execution_count": 1,
   "metadata": {},
   "outputs": [],
   "source": [
    "from OPMD_acq.testbench_funcs import OPMD_TestBench, pm_modes"
   ]
  },
  {
   "cell_type": "code",
   "execution_count": 2,
   "metadata": {},
   "outputs": [],
   "source": [
    "from OPMD_acq.testbench_funcs import * "
   ]
  },
  {
   "cell_type": "code",
   "execution_count": null,
   "metadata": {},
   "outputs": [],
   "source": []
  }
 ],
 "metadata": {
  "kernelspec": {
   "display_name": "Python 3",
   "language": "python",
   "name": "python3"
  },
  "language_info": {
   "codemirror_mode": {
    "name": "ipython",
    "version": 3
   },
   "file_extension": ".py",
   "mimetype": "text/x-python",
   "name": "python",
   "nbconvert_exporter": "python",
   "pygments_lexer": "ipython3",
   "version": "3.7.3"
  }
 },
 "nbformat": 4,
 "nbformat_minor": 2
}
